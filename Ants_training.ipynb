{
 "cells": [
  {
   "cell_type": "code",
   "execution_count": 1,
   "metadata": {
    "collapsed": true
   },
   "outputs": [],
   "source": [
    "import tensorflow as tf"
   ]
  },
  {
   "cell_type": "code",
   "execution_count": 2,
   "metadata": {
    "collapsed": true
   },
   "outputs": [],
   "source": [
    "import numpy as np\n",
    "import time\n",
    "import os\n",
    "from scipy.misc import imread\n",
    "import matplotlib.pyplot as plt\n",
    "%matplotlib inline"
   ]
  },
  {
   "cell_type": "markdown",
   "metadata": {},
   "source": [
    "## Load Training and Testing Sets"
   ]
  },
  {
   "cell_type": "code",
   "execution_count": 3,
   "metadata": {
    "collapsed": true
   },
   "outputs": [],
   "source": [
    "SIZE = 28\n",
    "images = []\n",
    "labels = []\n",
    "\n",
    "type_labels = {'individual': [1, 0, 0], 'tandem': [0, 1, 0], 'transport': [0, 0, 1]}\n",
    "\n",
    "for img_type in type_labels:\n",
    "    path = os.path.join('ant_img_gs', img_type)\n",
    "    for img_file in os.listdir(path):\n",
    "        if img_file.endswith('.png'):\n",
    "            im = imread(os.path.join(path, img_file)).flatten()\n",
    "            if im.size != SIZE * SIZE:\n",
    "                continue\n",
    "\n",
    "            images.append(im)\n",
    "            labels.append(type_labels[img_type])\n",
    "        \n",
    "images = np.asarray(images)\n",
    "labels = np.asarray(labels)"
   ]
  },
  {
   "cell_type": "code",
   "execution_count": 4,
   "metadata": {
    "collapsed": true
   },
   "outputs": [],
   "source": [
    "perm = np.random.permutation(len(images))\n",
    "shuffled_images = images[perm]\n",
    "shuffled_labels = labels[perm]"
   ]
  },
  {
   "cell_type": "code",
   "execution_count": 5,
   "metadata": {
    "collapsed": true
   },
   "outputs": [],
   "source": [
    "training_size = len(images) * 9 // 10\n",
    "\n",
    "training_images = shuffled_images[:training_size]\n",
    "training_labels = shuffled_labels[:training_size]\n",
    "\n",
    "test_images = shuffled_images[training_size:]\n",
    "test_labels = shuffled_labels[training_size:]"
   ]
  },
  {
   "cell_type": "markdown",
   "metadata": {},
   "source": [
    "## Model"
   ]
  },
  {
   "cell_type": "code",
   "execution_count": 6,
   "metadata": {
    "collapsed": true
   },
   "outputs": [],
   "source": [
    "def weight_variable(shape):\n",
    "    initial = tf.truncated_normal(shape, stddev=0.1)\n",
    "    return tf.Variable(initial)\n",
    "\n",
    "def bias_variable(shape):\n",
    "    initial = tf.constant(0.1, shape=shape)\n",
    "    return tf.Variable(initial)"
   ]
  },
  {
   "cell_type": "raw",
   "metadata": {
    "collapsed": true
   },
   "source": [
    "# NN with 1 hidden layer.\n",
    "x = tf.placeholder(tf.float32, shape=[None, SIZE*SIZE])\n",
    "W1 = tf.Variable(tf.truncated_normal([900, 100], stddev=0.1))\n",
    "b1 = tf.Variable(tf.zeros([100]))\n",
    "z1 = tf.nn.softmax(tf.matmul(x, W1) + b1)\n",
    "\n",
    "W2 = tf.Variable(tf.truncated_normal([100, 3], stddev=0.1))\n",
    "b2 = tf.Variable(tf.zeros([3]))\n",
    "y = tf.matmul(z1, W2) + b2\n",
    "\n",
    "y_ = tf.placeholder(tf.int32, shape=[None, 3])"
   ]
  },
  {
   "cell_type": "code",
   "execution_count": 8,
   "metadata": {
    "collapsed": true
   },
   "outputs": [],
   "source": [
    "# CNN\n",
    "x = tf.placeholder(tf.float32, shape=[None, SIZE*SIZE])\n",
    "y_ = tf.placeholder(tf.float32, [None, 3])\n",
    "\n",
    "with tf.name_scope('reshape'):\n",
    "    x_image = tf.reshape(x, [-1, SIZE, SIZE, 1])\n",
    "    \n",
    "with tf.name_scope('conv'):\n",
    "    W_conv = weight_variable([3, 3, 1, 8])\n",
    "    b_conv = bias_variable([8])\n",
    "    h_conv = tf.nn.relu(tf.nn.conv2d(x_image, W_conv, strides=[1, 1, 1, 1], padding='SAME'))\n",
    "    \n",
    "with tf.name_scope('pool'):\n",
    "    h_pool = tf.nn.max_pool(h_conv, ksize=[1, 2, 2, 1], strides=[1, 2, 2, 1], padding='SAME')\n",
    "    \n",
    "with tf.name_scope('fc1'):\n",
    "    W_fc1 = weight_variable([SIZE//2*SIZE//2*8, 100])\n",
    "    b_fc1 = bias_variable([100])\n",
    "        \n",
    "    h_pool_flat = tf.reshape(h_pool, [-1, SIZE//2*SIZE//2*8])\n",
    "    h_fc1 = tf.nn.relu(tf.matmul(h_pool_flat, W_fc1) + b_fc1)\n",
    "    \n",
    "with tf.name_scope('fc2'):\n",
    "    W_fc2 = weight_variable([100, 3])\n",
    "    b_fc2 = bias_variable([3])\n",
    "\n",
    "    y = tf.matmul(h_fc1, W_fc2) + b_fc2\n",
    "    "
   ]
  },
  {
   "cell_type": "code",
   "execution_count": 9,
   "metadata": {
    "collapsed": true
   },
   "outputs": [],
   "source": [
    "saver = tf.train.Saver()"
   ]
  },
  {
   "cell_type": "markdown",
   "metadata": {},
   "source": [
    "## Training"
   ]
  },
  {
   "cell_type": "code",
   "execution_count": 10,
   "metadata": {
    "collapsed": true
   },
   "outputs": [],
   "source": [
    "cross_entropy = tf.reduce_mean(\n",
    "    tf.nn.softmax_cross_entropy_with_logits(labels=y_, logits=y))\n",
    "train_step = tf.train.AdamOptimizer(1e-4).minimize(cross_entropy)\n",
    "    "
   ]
  },
  {
   "cell_type": "code",
   "execution_count": 13,
   "metadata": {},
   "outputs": [
    {
     "name": "stdout",
     "output_type": "stream",
     "text": [
      "100/2000 Training accuracy 0.6838445663452148. 23 s\n",
      "200/2000 Training accuracy 0.7567914128303528. 23 s\n",
      "300/2000 Training accuracy 0.8050535321235657. 23 s\n",
      "400/2000 Training accuracy 0.8359623551368713. 23 s\n",
      "500/2000 Training accuracy 0.8575880527496338. 23 s\n",
      "600/2000 Training accuracy 0.8740445971488953. 23 s\n",
      "700/2000 Training accuracy 0.8873364925384521. 24 s\n",
      "800/2000 Training accuracy 0.9012613296508789. 23 s\n",
      "900/2000 Training accuracy 0.912548840045929. 23 s\n",
      "1000/2000 Training accuracy 0.9214627742767334. 23 s\n",
      "1100/2000 Training accuracy 0.9295855760574341. 23 s\n",
      "1200/2000 Training accuracy 0.9362315535545349. 23 s\n",
      "1300/2000 Training accuracy 0.941558837890625. 24 s\n",
      "1400/2000 Training accuracy 0.9477827548980713. 23 s\n",
      "1500/2000 Training accuracy 0.9530573487281799. 23 s\n",
      "1600/2000 Training accuracy 0.958806574344635. 23 s\n",
      "1700/2000 Training accuracy 0.963395357131958. 23 s\n",
      "1800/2000 Training accuracy 0.9671403169631958. 23 s\n",
      "1900/2000 Training accuracy 0.97135990858078. 23 s\n",
      "2000/2000 Training accuracy 0.9745774269104004. 23 s\n"
     ]
    }
   ],
   "source": [
    "sess = tf.InteractiveSession()\n",
    "tf.global_variables_initializer().run()\n",
    "\n",
    "start_time = time.time()\n",
    "steps = 2000\n",
    "for i in range(steps):\n",
    "    if (i+1) % 100 == 0:\n",
    "        correct_prediction = tf.equal(tf.argmax(y, 1), tf.argmax(y_, 1))\n",
    "        accuracy = tf.reduce_mean(tf.cast(correct_prediction, tf.float32))\n",
    "        \n",
    "        delta_time = time.time() - start_time\n",
    "        time_message = '{} s'.format(int(delta_time)) if delta_time > 1 else '{} ms'.format(int(delta_time * 1000))\n",
    "        \n",
    "        print('{}/{} Training accuracy {}. {}'.format(i+1, steps, sess.run(accuracy, feed_dict={x: training_images, y_: training_labels}),\n",
    "                                                time_message))\n",
    "        start_time = time.time()\n",
    "        \n",
    "        saver.save(sess, 'tf_save/trained_model.ckpt')\n",
    "    \n",
    "    sess.run(train_step, feed_dict={x: images, y_: labels})"
   ]
  },
  {
   "cell_type": "code",
   "execution_count": 14,
   "metadata": {},
   "outputs": [
    {
     "name": "stdout",
     "output_type": "stream",
     "text": [
      "Test accuracy 0.9738965630531311\n"
     ]
    }
   ],
   "source": [
    "print('Test accuracy {}'.format(sess.run(accuracy, feed_dict={x: test_images, y_:test_labels})))"
   ]
  },
  {
   "cell_type": "markdown",
   "metadata": {
    "collapsed": true
   },
   "source": [
    "## Session Restore"
   ]
  },
  {
   "cell_type": "code",
   "execution_count": 15,
   "metadata": {},
   "outputs": [
    {
     "name": "stdout",
     "output_type": "stream",
     "text": [
      "INFO:tensorflow:Restoring parameters from tf_save/trained_model.ckpt\n"
     ]
    }
   ],
   "source": [
    "sess = tf.Session()\n",
    "saver.restore(sess, 'tf_save/trained_model.ckpt')"
   ]
  },
  {
   "cell_type": "markdown",
   "metadata": {},
   "source": [
    "## Application"
   ]
  },
  {
   "cell_type": "markdown",
   "metadata": {},
   "source": [
    "### Load image"
   ]
  },
  {
   "cell_type": "code",
   "execution_count": 58,
   "metadata": {},
   "outputs": [
    {
     "data": {
      "text/plain": [
       "<matplotlib.image.AxesImage at 0x1203c12b0>"
      ]
     },
     "execution_count": 58,
     "metadata": {},
     "output_type": "execute_result"
    },
    {
     "data": {
      "image/png": "[encoded data removed]",
      "text/plain": [
       "<matplotlib.figure.Figure at 0x1202e3ef0>"
      ]
     },
     "metadata": {},
     "output_type": "display_data"
    }
   ],
   "source": [
    "img = imread('test_patches/ants.png')\n",
    "plt.imshow(img, 'gray')"
   ]
  },
  {
   "cell_type": "code",
   "execution_count": 59,
   "metadata": {},
   "outputs": [
    {
     "data": {
      "text/plain": [
       "array([2])"
      ]
     },
     "execution_count": 59,
     "metadata": {},
     "output_type": "execute_result"
    }
   ],
   "source": [
    "sess.run(tf.argmax(y, 1), feed_dict={x: [img.flatten()]})"
   ]
  },
  {
   "cell_type": "code",
   "execution_count": null,
   "metadata": {
    "collapsed": true
   },
   "outputs": [],
   "source": []
  }
 ],
 "metadata": {
  "kernelspec": {
   "display_name": "Python 3",
   "language": "python",
   "name": "python3"
  },
  "language_info": {
   "codemirror_mode": {
    "name": "ipython",
    "version": 3
   },
   "file_extension": ".py",
   "mimetype": "text/x-python",
   "name": "python",
   "nbconvert_exporter": "python",
   "pygments_lexer": "ipython3",
   "version": "3.6.3"
  }
 },
 "nbformat": 4,
 "nbformat_minor": 2
}
